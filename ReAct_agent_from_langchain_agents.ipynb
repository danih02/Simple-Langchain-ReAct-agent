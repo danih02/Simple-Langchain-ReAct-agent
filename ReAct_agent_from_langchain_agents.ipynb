{
  "cells": [
    {
      "cell_type": "markdown",
      "metadata": {
        "colab_type": "text",
        "id": "view-in-github"
      },
      "source": [
        "<a href=\"https://colab.research.google.com/github/danih02/Simple-Langchain-ReAct-agent/blob/main/ReAct_agent_from_langchain_agents.ipynb\" target=\"_parent\"><img src=\"https://colab.research.google.com/assets/colab-badge.svg\" alt=\"Open In Colab\"/></a>"
      ]
    },
    {
      "cell_type": "markdown",
      "metadata": {
        "id": "c_fMhf6vfMrp"
      },
      "source": [
        "This is a quick ReAct setup using langchain.agents"
      ]
    },
    {
      "cell_type": "code",
      "execution_count": 5,
      "metadata": {
        "id": "9dh-iHJEUaXR"
      },
      "outputs": [],
      "source": [
        "%%capture\n",
        "%pip install langchain-community langchain_google_genai google-generativeai"
      ]
    },
    {
      "cell_type": "code",
      "execution_count": 8,
      "metadata": {
        "id": "f1BLzy36Ue1I"
      },
      "outputs": [],
      "source": [
        "import os\n",
        "import google.generativeai as genai\n",
        "from langchain_google_genai import ChatGoogleGenerativeAI\n",
        "\n",
        "api_key = os.getenv(\"GOOGLE_API_KEY\")\n",
        "genai.configure(api_key=api_key)\n",
        "os.environ[\"GOOGLE_API_KEY\"] = api_key\n",
        "llm = ChatGoogleGenerativeAI(model=\"gemini-2.0-flash\", temperature = 0)"
      ]
    },
    {
      "cell_type": "code",
      "execution_count": 6,
      "metadata": {
        "id": "AfPl4oeRdibU"
      },
      "outputs": [],
      "source": [
        "%%capture\n",
        "%pip install wikipedia\n",
        "%pip install duckduckgo-search"
      ]
    },
    {
      "cell_type": "code",
      "execution_count": 9,
      "metadata": {
        "id": "m9IvtGnxVSdw"
      },
      "outputs": [],
      "source": [
        "from langchain.tools import DuckDuckGoSearchResults, tool\n",
        "from langchain.agents import load_tools, Tool\n",
        "from pydantic import BaseModel, Field\n",
        "\n",
        "# Define input schema\n",
        "class SearchInput(BaseModel):\n",
        "    query: str = Field(description=\"Search query for DuckDuckGo\")\n",
        "\n",
        "# Define the tool\n",
        "search = DuckDuckGoSearchResults()\n",
        "search_tool = Tool(name = \"duckduck\",\n",
        "                   description = \"A web search engine to look things up.\",\n",
        "                   func = search.run)\n",
        "\n",
        "tools = load_tools([\"wikipedia\"], llm=llm, arg_schema = SearchInput)\n",
        "tools.append(search)"
      ]
    },
    {
      "cell_type": "code",
      "execution_count": 10,
      "metadata": {
        "id": "ZliyDyqMXdhV"
      },
      "outputs": [],
      "source": [
        "from langchain_core.prompts import PromptTemplate\n",
        "prompt = \"Answer the following question: {question}.\"\n",
        "prompt = PromptTemplate(input_variable = [\"question\"],\n",
        "               template = prompt)"
      ]
    },
    {
      "cell_type": "code",
      "execution_count": 11,
      "metadata": {
        "id": "OYmmKuGCYRhe"
      },
      "outputs": [],
      "source": [
        "from langchain.agents import initialize_agent, AgentType"
      ]
    },
    {
      "cell_type": "code",
      "execution_count": 12,
      "metadata": {
        "id": "MpVKbcClZaVq"
      },
      "outputs": [],
      "source": [
        "from langchain_core.prompts import PromptTemplate\n",
        "\n",
        "# template from langchain documentaion\n",
        "\n",
        "template = '''Answer the following questions as best you can. You have access to the following tools:\n",
        "\n",
        "{tools}\n",
        "\n",
        "Use the following format:\n",
        "\n",
        "Question: the input question you must answer\n",
        "Thought: you should always think about what to do\n",
        "Action: the action to take, should be one of [{tool_names}]\n",
        "Action Input: the input to the action\n",
        "Observation: the result of the action\n",
        "... (this Thought/Action/Action Input/Observation can repeat N times)\n",
        "Thought: I now know the final answer\n",
        "Final Answer: the final answer to the original input question\n",
        "\n",
        "Begin!\n",
        "\n",
        "Question: {input}\n",
        "Thought:{agent_scratchpad}'''\n",
        "\n",
        "prompt = PromptTemplate.from_template(template=template, input_variable = [\"input\", \"tools\", \"tool_names\", \"input\", \"agent_scratchpad\"])"
      ]
    },
    {
      "cell_type": "code",
      "execution_count": 13,
      "metadata": {
        "id": "XS2ONfM-aX2V"
      },
      "outputs": [],
      "source": [
        "from langchain.agents import create_react_agent, AgentExecutor"
      ]
    },
    {
      "cell_type": "code",
      "execution_count": 14,
      "metadata": {
        "id": "misOyHxxVtUs"
      },
      "outputs": [],
      "source": [
        "agent = create_react_agent(llm, tools, prompt)\n",
        "agent_executor = AgentExecutor(agent=agent, tools = tools, verbose = True, handle_parsing_errors = True)"
      ]
    },
    {
      "cell_type": "code",
      "execution_count": 15,
      "metadata": {
        "id": "_aiEh1fxa5A7"
      },
      "outputs": [],
      "source": [
        "llm = ChatGoogleGenerativeAI(model=\"gemini-2.0-flash\", temperature = 0)"
      ]
    },
    {
      "cell_type": "code",
      "execution_count": 16,
      "metadata": {
        "colab": {
          "base_uri": "https://localhost:8080/"
        },
        "id": "ov-FsR8cYh2F",
        "outputId": "465bf511-9bfc-48b0-ae88-d784be102ac6"
      },
      "outputs": [
        {
          "name": "stdout",
          "output_type": "stream",
          "text": [
            "\n",
            "\n",
            "\u001b[1m> Entering new AgentExecutor chain...\u001b[0m\n",
            "\u001b[32;1m\u001b[1;3mI need to find Hannover Re's financial 2025 Q1 statement and then extract the P&C reinsurance revenue (gross). Since this is a specific financial figure, I will start by searching for the statement directly. If I can't find it, I will search for news articles or financial reports that might mention the figure.\n",
            "Action: duckduckgo_results_json\n",
            "Action Input: \"Hannover Re financial statement 2025 Q1\"\u001b[0m\u001b[33;1m\u001b[1;3msnippet: Hannover Re: Q1 2025 results. Tweet Hannover Re has recorded gross reinsurance revenue of 7 billion EUR (7.6 billion USD) at end-March 2025, marking a 4.5% year-on-year increase. Net reinsurance service result amounted to 515 million EUR (557.6 million USD), dropping by 28.5% compared to the same period in 2024. The operating result also ..., title: Hannover Re: Q1 2025 results - atlas-mag.net, link: https://www.atlas-mag.net/en/article/hannover-re-q1-2025-results, snippet: Hannover Re's net assets rose to 12.1 billion euros in Q1 2025, up from 11.8 billion euros at the end of December 2024. The annualized return on capital stood at 16.1%, surpassing the company's strategic objective of 14%.This highlights the underlying strength and resilience of the company's financial position, despite the quarterly setback., title: Hannover Re Q1 Results: Strong Holding Despite Catastrophic Claims, link: https://www.archyde.com/hannover-re-q1-results-strong-holding-despite-catastrophic-claims/, snippet: Hannover Re has reported a group net income of €480 million for Q1 2025, marking a 13.9% year-on-year decline, primarily driven by large losses in property and casualty reinsurance, which totalled €765 million and significantly exceeded the budgeted expectation of €435 million. ... Chief Financial Officer of Hannover Re, commented ..., title: Hannover Re stays profitable in Q1'25 amid elevated catastrophe claims, link: https://www.reinsurancene.ws/hannover-re-stays-profitable-in-q125-amid-elevated-catastrophe-claims/, snippet: Hannover, 13 May 2025: Hannover Re reported Group net income for the first quarter that was 13.9% lower year-on-year due to considerable natural catastrophe losses. Thanks to the healthy underlying business, the company nevertheless remains well on track to achieve the targets set for the current financial year. ... Q1 statement / Q1 financial ..., title: Hannover Re generates Group net income of EUR 480 million in the first ..., link: https://www.eqs-news.com/news/corporate/hannover-re-generates-group-net-income-of-eur-480-million-in-the-first-quarter-despite-considerable-expenditures-for-california-wildfires/62ce733d-59f1-4c25-8ff9-d3cdcfa891e3_en\u001b[0m\u001b[32;1m\u001b[1;3mThe search results mention gross reinsurance revenue of 7 billion EUR. I need to confirm if this is specifically for P&C reinsurance. The search results also mention large losses in property and casualty reinsurance. I will search for \"Hannover Re Q1 2025 P&C reinsurance revenue\".\n",
            "Action: duckduckgo_results_json\n",
            "Action Input: \"Hannover Re Q1 2025 P&C reinsurance revenue\"\u001b[0m\u001b[33;1m\u001b[1;3msnippet: Hannover Re has recorded gross reinsurance revenue of 7 billion EUR (7.6 billion USD) at end-March 2025, marking a 4.5% year-on-year increase. Net reinsurance service result amounted to 515 million EUR (557.6 million USD), dropping by 28.5% compared to the same period in 2024., title: Hannover Re: Q1 2025 results - atlas-mag.net, link: https://www.atlas-mag.net/en/article/hannover-re-q1-2025-results, snippet: Hannover Re has reported a group net income of €480 million for Q1 2025, marking a 13.9% year-on-year decline, primarily driven by large losses in. ... gross reinsurance revenue increased by 4.5% to €7 billion in Q1 2025. In the property and casualty segment, gross revenue rose by 7.2% to €5.1 billion, while the life and health segment ..., title: Hannover Re stays profitable in Q1'25 amid ... - Reinsurance News, link: https://www.reinsurancene.ws/hannover-re-stays-profitable-in-q125-amid-elevated-catastrophe-claims/, snippet: Munich Re, Hannover Re and Scor all experienced continued top-line growth in the single digits at their P&C reinsurance segments in Q1 2025. Munich Re grew at a rate of 4.2%, while Hannover Re ..., title: Q1 earnings: Continental reinsurers' latest results in four graphics, link: https://www.insuranceinsider.com/article/2etlwx3l9y55k7cmd34sg/all-segments/reinsurers/q1-earnings-continental-reinsurers-latest-results-in-four-graphics, snippet: The company confirmed its full-year guidance, maintaining an expectation of Group net income around €2.4 billion for 2025. Hannover Re also anticipates P&C reinsurance revenue to grow by more ..., title: Hannover Re Q1 profit falls 14% on wildfire losses, guidance maintained, link: https://www.investing.com/news/earnings/hannover-re-q1-profit-falls-14-on-wildfire-losses-guidance-maintained-4040723\u001b[0m\u001b[32;1m\u001b[1;3mThe search results indicate that in Q1 2025, Hannover Re's gross reinsurance revenue was 7 billion EUR, and specifically, the gross revenue for the property and casualty (P&C) segment rose by 7.2% to €5.1 billion.\n",
            "Final Answer: The P&C reinsurance revenue (gross) in Hannover Re's financial 2025 Q1 statement was €5.1 billion.\u001b[0m\n",
            "\n",
            "\u001b[1m> Finished chain.\u001b[0m\n",
            "The P&C reinsurance revenue (gross) in Hannover Re's financial 2025 Q1 statement was €5.1 billion.\n"
          ]
        }
      ],
      "source": [
        "response = agent_executor.invoke({\"input\": \"How big was the P&C reinsurance revenue (gross) in HannoverRe's financial 2025 Q1 statement?\"})\n",
        "print(response['output'])"
      ]
    }
  ],
  "metadata": {
    "colab": {
      "authorship_tag": "ABX9TyPpJ3dcKx5QjIqau1eKjY/T",
      "include_colab_link": true,
      "mount_file_id": "12tbLTiqG_Y4kABMYGcXz9tWUiiD88v-i",
      "provenance": []
    },
    "kernelspec": {
      "display_name": "base",
      "language": "python",
      "name": "python3"
    },
    "language_info": {
      "codemirror_mode": {
        "name": "ipython",
        "version": 3
      },
      "file_extension": ".py",
      "mimetype": "text/x-python",
      "name": "python",
      "nbconvert_exporter": "python",
      "pygments_lexer": "ipython3",
      "version": "3.12.7"
    }
  },
  "nbformat": 4,
  "nbformat_minor": 0
}
