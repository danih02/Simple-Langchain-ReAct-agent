{
  "nbformat": 4,
  "nbformat_minor": 0,
  "metadata": {
    "colab": {
      "provenance": [],
      "mount_file_id": "12tbLTiqG_Y4kABMYGcXz9tWUiiD88v-i",
      "authorship_tag": "ABX9TyPpJ3dcKx5QjIqau1eKjY/T",
      "include_colab_link": true
    },
    "kernelspec": {
      "name": "python3",
      "display_name": "Python 3"
    },
    "language_info": {
      "name": "python"
    }
  },
  "cells": [
    {
      "cell_type": "markdown",
      "metadata": {
        "id": "view-in-github",
        "colab_type": "text"
      },
      "source": [
        "<a href=\"https://colab.research.google.com/github/danih02/Simple-Langchain-ReAct-agent/blob/main/ReAct_agent_from_langchain_agents.ipynb\" target=\"_parent\"><img src=\"https://colab.research.google.com/assets/colab-badge.svg\" alt=\"Open In Colab\"/></a>"
      ]
    },
    {
      "cell_type": "markdown",
      "source": [
        "This is a quick ReAct setup using langchain.agents"
      ],
      "metadata": {
        "id": "c_fMhf6vfMrp"
      }
    },
    {
      "cell_type": "code",
      "execution_count": null,
      "metadata": {
        "id": "9dh-iHJEUaXR"
      },
      "outputs": [],
      "source": [
        "%%capture\n",
        "%pip install langchain-community langchain_google_genai"
      ]
    },
    {
      "cell_type": "code",
      "source": [
        "with open('/content/drive/My Drive/google_api_key.txt', 'r') as f: # get api key\n",
        "    api_key = f.read().strip()\n",
        "\n",
        "import google.generativeai as genai\n",
        "import os\n",
        "genai.configure(api_key=api_key)\n",
        "\n",
        "from langchain_google_genai import ChatGoogleGenerativeAI\n",
        "os.environ[\"GOOGLE_API_KEY\"] = api_key\n",
        "llm = ChatGoogleGenerativeAI(model=\"gemini-2.0-flash\", temperature = 0)"
      ],
      "metadata": {
        "id": "f1BLzy36Ue1I"
      },
      "execution_count": null,
      "outputs": []
    },
    {
      "cell_type": "code",
      "source": [
        "%%capture\n",
        "%pip install wikipedia\n",
        "%pip install duckduckgo-search"
      ],
      "metadata": {
        "id": "AfPl4oeRdibU"
      },
      "execution_count": null,
      "outputs": []
    },
    {
      "cell_type": "code",
      "source": [
        "from langchain.tools import DuckDuckGoSearchResults, tool\n",
        "from langchain.agents import load_tools, Tool\n",
        "from pydantic import BaseModel, Field\n",
        "\n",
        "# Define input schema\n",
        "class SearchInput(BaseModel):\n",
        "    query: str = Field(description=\"Search query for DuckDuckGo\")\n",
        "\n",
        "# Define the tool\n",
        "search = DuckDuckGoSearchResults()\n",
        "search_tool = Tool(name = \"duckduck\",\n",
        "                   description = \"A web search engine to look things up.\",\n",
        "                   func = search.run)\n",
        "\n",
        "tools = load_tools([\"wikipedia\"], llm=llm, arg_schema = SearchInput)\n",
        "tools.append(search)"
      ],
      "metadata": {
        "id": "m9IvtGnxVSdw"
      },
      "execution_count": null,
      "outputs": []
    },
    {
      "cell_type": "code",
      "source": [
        "from langchain_core.prompts import PromptTemplate\n",
        "prompt = \"Answer the following question: {question}.\"\n",
        "prompt = PromptTemplate(input_variable = [\"question\"],\n",
        "               template = prompt)"
      ],
      "metadata": {
        "id": "ZliyDyqMXdhV"
      },
      "execution_count": null,
      "outputs": []
    },
    {
      "cell_type": "code",
      "source": [
        "from langchain.agents import initialize_agent, AgentType"
      ],
      "metadata": {
        "id": "OYmmKuGCYRhe"
      },
      "execution_count": null,
      "outputs": []
    },
    {
      "cell_type": "code",
      "source": [
        "from langchain_core.prompts import PromptTemplate\n",
        "\n",
        "# template from langchain documentaion\n",
        "\n",
        "template = '''Answer the following questions as best you can. You have access to the following tools:\n",
        "\n",
        "{tools}\n",
        "\n",
        "Use the following format:\n",
        "\n",
        "Question: the input question you must answer\n",
        "Thought: you should always think about what to do\n",
        "Action: the action to take, should be one of [{tool_names}]\n",
        "Action Input: the input to the action\n",
        "Observation: the result of the action\n",
        "... (this Thought/Action/Action Input/Observation can repeat N times)\n",
        "Thought: I now know the final answer\n",
        "Final Answer: the final answer to the original input question\n",
        "\n",
        "Begin!\n",
        "\n",
        "Question: {input}\n",
        "Thought:{agent_scratchpad}'''\n",
        "\n",
        "prompt = PromptTemplate.from_template(template=template, input_variable = [\"input\", \"tools\", \"tool_names\", \"input\", \"agent_scratchpad\"])"
      ],
      "metadata": {
        "id": "MpVKbcClZaVq"
      },
      "execution_count": null,
      "outputs": []
    },
    {
      "cell_type": "code",
      "source": [
        "from langchain.agents import create_react_agent, AgentExecutor"
      ],
      "metadata": {
        "id": "XS2ONfM-aX2V"
      },
      "execution_count": null,
      "outputs": []
    },
    {
      "cell_type": "code",
      "source": [
        "agent = create_react_agent(llm, tools, prompt)\n",
        "agent_executor = AgentExecutor(agent=agent, tools = tools, verbose = True, handle_parsing_errors = True)"
      ],
      "metadata": {
        "id": "misOyHxxVtUs"
      },
      "execution_count": null,
      "outputs": []
    },
    {
      "cell_type": "code",
      "source": [
        "llm = ChatGoogleGenerativeAI(model=\"gemini-2.0-flash\", temperature = 0)"
      ],
      "metadata": {
        "id": "_aiEh1fxa5A7"
      },
      "execution_count": null,
      "outputs": []
    },
    {
      "cell_type": "code",
      "source": [
        "response = agent_executor.invoke({\"input\": \"How big was the P&C reinsurance revenue (gross) in HannoverRe's financial 2025 Q1 statement?\"})\n",
        "print(response['output'])"
      ],
      "metadata": {
        "colab": {
          "base_uri": "https://localhost:8080/"
        },
        "id": "ov-FsR8cYh2F",
        "outputId": "465bf511-9bfc-48b0-ae88-d784be102ac6"
      },
      "execution_count": null,
      "outputs": [
        {
          "output_type": "stream",
          "name": "stdout",
          "text": [
            "\n",
            "\n",
            "\u001b[1m> Entering new AgentExecutor chain...\u001b[0m\n",
            "\u001b[32;1m\u001b[1;3mI need to find Hannover Re's financial 2025 Q1 statement and then extract the P&C reinsurance revenue (gross). Since this is a specific financial figure, I will start by searching for the statement itself. If I can't find it directly, I will search for news articles or financial reports that summarize the statement.\n",
            "Action: duckduckgo_results_json\n",
            "Action Input: \"Hannover Re financial statement 2025 Q1\"\u001b[0m\u001b[33;1m\u001b[1;3msnippet: Hannover Re: Q1 2025 results. Tweet Hannover Re has recorded gross reinsurance revenue of 7 billion EUR (7.6 billion USD) at end-March 2025, marking a 4.5% year-on-year increase. Net reinsurance service result amounted to 515 million EUR (557.6 million USD), dropping by 28.5% compared to the same period in 2024. The operating result also ..., title: Hannover Re: Q1 2025 results - atlas-mag.net, link: https://www.atlas-mag.net/en/article/hannover-re-q1-2025-results, snippet: Hannover Re's net assets rose to 12.1 billion euros in Q1 2025, up from 11.8 billion euros at the end of December 2024. The annualized return on capital stood at 16.1%, surpassing the company's strategic objective of 14%.This highlights the underlying strength and resilience of the company's financial position, despite the quarterly setback., title: Hannover Re Q1 Results: Strong Holding Despite Catastrophic Claims, link: https://www.archyde.com/hannover-re-q1-results-strong-holding-despite-catastrophic-claims/, snippet: ‌Q1 Quarterly Statement as at 31 March 2025 ..., title: Hannover Re : Group report Q1 2025 | MarketScreener, link: https://www.marketscreener.com/quote/stock/HANNOVER-RE-444737/news/Hannover-Re-Group-report-Q1-2025-49921259/, snippet: Hannover Re posted Group net income of €480 million for the first quarter of 2025, down 13.9% year-over-year, reflecting the financial impact of several major natural catastrophe events., title: Wildfires weigh on Hannover Re's Q1 with massive net income drop, link: https://www.insurancebusinessmag.com/reinsurance/news/breaking-news/wildfires-weigh-on-hannover-res-q1-with-massive-net-income-drop-535665.aspx\u001b[0m\u001b[32;1m\u001b[1;3mThe search results mention gross reinsurance revenue of 7 billion EUR. I need to confirm if this is specifically for P&C reinsurance.\n",
            "Action: duckduckgo_results_json\n",
            "Action Input: \"Hannover Re Q1 2025 P&C reinsurance revenue\"\u001b[0m\u001b[33;1m\u001b[1;3msnippet: Hannover Re has recorded gross reinsurance revenue of 7 billion EUR (7.6 billion USD) at end-March 2025, marking a 4.5% year-on-year increase. Net reinsurance service result amounted to 515 million EUR (557.6 million USD), dropping by 28.5% compared to the same period in 2024., title: Hannover Re: Q1 2025 results - atlas-mag.net, link: https://www.atlas-mag.net/en/article/hannover-re-q1-2025-results, snippet: The company confirmed its full-year guidance, maintaining an expectation of Group net income around €2.4 billion for 2025. Hannover Re also anticipates P&C reinsurance revenue to grow by more ..., title: Hannover Re Q1 profit falls 14% on wildfire losses, guidance maintained, link: https://www.investing.com/news/earnings/hannover-re-q1-profit-falls-14-on-wildfire-losses-guidance-maintained-4040723, snippet: Hannover Re Q1 results Operating profit for the first quarter fell by 14.1% to €696 million, down from €811 million. Earnings per share were €3.98, compared to €4.63 in Q1 2024., title: Wildfires weigh on Hannover Re's Q1 with massive net income drop, link: https://www.insurancebusinessmag.com/reinsurance/news/breaking-news/wildfires-weigh-on-hannover-res-q1-with-massive-net-income-drop-535665.aspx, snippet: Hannover Re lost more than 3% in Frankfurt after the reinsurer reported a 13.9% drop in net income to €480m for Q1 2025, due to significant losses from natural disasters. Its property and casualty (P&C) reinsurance business reported losses of €765m, exceeding its budgeted expectations for the period, mainly due to the fires that ravaged ..., title: Hannover Re: in the red after its Q1 results | MarketScreener, link: https://www.marketscreener.com/quote/stock/HANNOVER-RE-444737/news/Hannover-Re-in-the-red-after-its-Q1-results-49928673/\u001b[0m\u001b[32;1m\u001b[1;3mThe search results indicate that Hannover Re recorded gross reinsurance revenue of 7 billion EUR in Q1 2025. While some articles mention P&C reinsurance, they don't explicitly state that the 7 billion EUR figure is *specifically* for P&C reinsurance. However, one article mentions \"Hannover Re also anticipates P&C reinsurance revenue to grow by more...\" which implies that the 7 billion EUR figure is the total reinsurance revenue, and P&C is a component of that. Since I cannot find a specific figure for P&C reinsurance revenue, I will assume the 7 billion EUR is the total reinsurance revenue, which includes P&C.\n",
            "\n",
            "Final Answer: Hannover Re recorded gross reinsurance revenue of 7 billion EUR in Q1 2025. While it's not explicitly stated that this is *only* for P&C reinsurance, it is implied that P&C is a component of this total.\n",
            "\u001b[0m\n",
            "\n",
            "\u001b[1m> Finished chain.\u001b[0m\n",
            "Hannover Re recorded gross reinsurance revenue of 7 billion EUR in Q1 2025. While it's not explicitly stated that this is *only* for P&C reinsurance, it is implied that P&C is a component of this total.\n"
          ]
        }
      ]
    },
    {
      "cell_type": "code",
      "source": [
        "1+1"
      ],
      "metadata": {
        "colab": {
          "base_uri": "https://localhost:8080/"
        },
        "id": "4PRsmr_-bvHM",
        "outputId": "6dc7c512-e5a9-4da1-f432-71683bf83011"
      },
      "execution_count": null,
      "outputs": [
        {
          "output_type": "execute_result",
          "data": {
            "text/plain": [
              "2"
            ]
          },
          "metadata": {},
          "execution_count": 91
        }
      ]
    },
    {
      "cell_type": "code",
      "source": [],
      "metadata": {
        "id": "-aG5sAsDpNeM"
      },
      "execution_count": null,
      "outputs": []
    }
  ]
}